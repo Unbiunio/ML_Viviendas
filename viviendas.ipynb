{
 "cells": [
  {
   "cell_type": "code",
   "execution_count": null,
   "id": "8e75f395",
   "metadata": {},
   "outputs": [],
   "source": [
    "''' IMPORTAR INSTALAR LIBRERIAS '''"
   ]
  },
  {
   "cell_type": "code",
   "execution_count": 1,
   "id": "b86c54fb",
   "metadata": {},
   "outputs": [
    {
     "name": "stdout",
     "output_type": "stream",
     "text": [
      "Requirement already satisfied: catboost in c:\\users\\rafas\\appdata\\local\\programs\\python\\python310\\lib\\site-packages (1.2.7)Note: you may need to restart the kernel to use updated packages.\n",
      "\n",
      "Requirement already satisfied: graphviz in c:\\users\\rafas\\appdata\\local\\programs\\python\\python310\\lib\\site-packages (from catboost) (0.20.3)\n",
      "Requirement already satisfied: matplotlib in c:\\users\\rafas\\appdata\\local\\programs\\python\\python310\\lib\\site-packages (from catboost) (3.9.2)\n",
      "Requirement already satisfied: numpy<2.0,>=1.16.0 in c:\\users\\rafas\\appdata\\local\\programs\\python\\python310\\lib\\site-packages (from catboost) (1.26.4)\n",
      "Requirement already satisfied: pandas>=0.24 in c:\\users\\rafas\\appdata\\local\\programs\\python\\python310\\lib\\site-packages (from catboost) (2.2.3)\n",
      "Requirement already satisfied: scipy in c:\\users\\rafas\\appdata\\local\\programs\\python\\python310\\lib\\site-packages (from catboost) (1.14.1)\n",
      "Requirement already satisfied: plotly in c:\\users\\rafas\\appdata\\local\\programs\\python\\python310\\lib\\site-packages (from catboost) (5.24.1)\n",
      "Requirement already satisfied: six in c:\\users\\rafas\\appdata\\roaming\\python\\python310\\site-packages (from catboost) (1.16.0)\n",
      "Requirement already satisfied: python-dateutil>=2.8.2 in c:\\users\\rafas\\appdata\\roaming\\python\\python310\\site-packages (from pandas>=0.24->catboost) (2.9.0.post0)\n",
      "Requirement already satisfied: pytz>=2020.1 in c:\\users\\rafas\\appdata\\local\\programs\\python\\python310\\lib\\site-packages (from pandas>=0.24->catboost) (2024.2)\n",
      "Requirement already satisfied: tzdata>=2022.7 in c:\\users\\rafas\\appdata\\local\\programs\\python\\python310\\lib\\site-packages (from pandas>=0.24->catboost) (2024.2)\n",
      "Requirement already satisfied: contourpy>=1.0.1 in c:\\users\\rafas\\appdata\\local\\programs\\python\\python310\\lib\\site-packages (from matplotlib->catboost) (1.3.0)\n",
      "Requirement already satisfied: cycler>=0.10 in c:\\users\\rafas\\appdata\\local\\programs\\python\\python310\\lib\\site-packages (from matplotlib->catboost) (0.12.1)\n",
      "Requirement already satisfied: fonttools>=4.22.0 in c:\\users\\rafas\\appdata\\local\\programs\\python\\python310\\lib\\site-packages (from matplotlib->catboost) (4.54.1)\n",
      "Requirement already satisfied: kiwisolver>=1.3.1 in c:\\users\\rafas\\appdata\\local\\programs\\python\\python310\\lib\\site-packages (from matplotlib->catboost) (1.4.7)\n",
      "Requirement already satisfied: packaging>=20.0 in c:\\users\\rafas\\appdata\\roaming\\python\\python310\\site-packages (from matplotlib->catboost) (24.1)\n",
      "Requirement already satisfied: pillow>=8 in c:\\users\\rafas\\appdata\\local\\programs\\python\\python310\\lib\\site-packages (from matplotlib->catboost) (11.0.0)\n",
      "Requirement already satisfied: pyparsing>=2.3.1 in c:\\users\\rafas\\appdata\\local\\programs\\python\\python310\\lib\\site-packages (from matplotlib->catboost) (3.2.0)\n",
      "Requirement already satisfied: tenacity>=6.2.0 in c:\\users\\rafas\\appdata\\local\\programs\\python\\python310\\lib\\site-packages (from plotly->catboost) (9.0.0)\n"
     ]
    }
   ],
   "source": [
    "pip install catboost"
   ]
  },
  {
   "cell_type": "code",
   "execution_count": 2,
   "id": "387b33ff",
   "metadata": {},
   "outputs": [
    {
     "name": "stdout",
     "output_type": "stream",
     "text": [
      "Requirement already satisfied: shap in c:\\users\\rafas\\appdata\\local\\programs\\python\\python310\\lib\\site-packages (0.47.2)\n",
      "Requirement already satisfied: numpy in c:\\users\\rafas\\appdata\\local\\programs\\python\\python310\\lib\\site-packages (from shap) (1.26.4)\n",
      "Requirement already satisfied: scipy in c:\\users\\rafas\\appdata\\local\\programs\\python\\python310\\lib\\site-packages (from shap) (1.14.1)\n",
      "Requirement already satisfied: scikit-learn in c:\\users\\rafas\\appdata\\local\\programs\\python\\python310\\lib\\site-packages (from shap) (1.6.1)\n",
      "Requirement already satisfied: pandas in c:\\users\\rafas\\appdata\\local\\programs\\python\\python310\\lib\\site-packages (from shap) (2.2.3)\n",
      "Requirement already satisfied: tqdm>=4.27.0 in c:\\users\\rafas\\appdata\\local\\programs\\python\\python310\\lib\\site-packages (from shap) (4.67.0)\n",
      "Requirement already satisfied: packaging>20.9 in c:\\users\\rafas\\appdata\\roaming\\python\\python310\\site-packages (from shap) (24.1)\n",
      "Requirement already satisfied: slicer==0.0.8 in c:\\users\\rafas\\appdata\\local\\programs\\python\\python310\\lib\\site-packages (from shap) (0.0.8)\n",
      "Requirement already satisfied: numba>=0.54 in c:\\users\\rafas\\appdata\\local\\programs\\python\\python310\\lib\\site-packages (from shap) (0.61.2)\n",
      "Requirement already satisfied: cloudpickle in c:\\users\\rafas\\appdata\\local\\programs\\python\\python310\\lib\\site-packages (from shap) (3.1.1)\n",
      "Requirement already satisfied: typing-extensions in c:\\users\\rafas\\appdata\\roaming\\python\\python310\\site-packages (from shap) (4.12.2)\n",
      "Requirement already satisfied: llvmlite<0.45,>=0.44.0dev0 in c:\\users\\rafas\\appdata\\local\\programs\\python\\python310\\lib\\site-packages (from numba>=0.54->shap) (0.44.0)\n",
      "Requirement already satisfied: colorama in c:\\users\\rafas\\appdata\\roaming\\python\\python310\\site-packages (from tqdm>=4.27.0->shap) (0.4.6)\n",
      "Requirement already satisfied: python-dateutil>=2.8.2 in c:\\users\\rafas\\appdata\\roaming\\python\\python310\\site-packages (from pandas->shap) (2.9.0.post0)\n",
      "Requirement already satisfied: pytz>=2020.1 in c:\\users\\rafas\\appdata\\local\\programs\\python\\python310\\lib\\site-packages (from pandas->shap) (2024.2)\n",
      "Requirement already satisfied: tzdata>=2022.7 in c:\\users\\rafas\\appdata\\local\\programs\\python\\python310\\lib\\site-packages (from pandas->shap) (2024.2)\n",
      "Requirement already satisfied: joblib>=1.2.0 in c:\\users\\rafas\\appdata\\local\\programs\\python\\python310\\lib\\site-packages (from scikit-learn->shap) (1.4.2)\n",
      "Requirement already satisfied: threadpoolctl>=3.1.0 in c:\\users\\rafas\\appdata\\local\\programs\\python\\python310\\lib\\site-packages (from scikit-learn->shap) (3.6.0)\n",
      "Requirement already satisfied: six>=1.5 in c:\\users\\rafas\\appdata\\roaming\\python\\python310\\site-packages (from python-dateutil>=2.8.2->pandas->shap) (1.16.0)\n",
      "Note: you may need to restart the kernel to use updated packages.\n"
     ]
    }
   ],
   "source": [
    "pip install shap"
   ]
  },
  {
   "cell_type": "code",
   "execution_count": 4,
   "id": "222260f2",
   "metadata": {},
   "outputs": [
    {
     "name": "stdout",
     "output_type": "stream",
     "text": [
      "Collecting xgboost\n",
      "  Downloading xgboost-3.0.0-py3-none-win_amd64.whl.metadata (2.1 kB)\n",
      "Requirement already satisfied: numpy in c:\\users\\rafas\\appdata\\local\\programs\\python\\python310\\lib\\site-packages (from xgboost) (1.26.4)\n",
      "Requirement already satisfied: scipy in c:\\users\\rafas\\appdata\\local\\programs\\python\\python310\\lib\\site-packages (from xgboost) (1.14.1)\n",
      "Downloading xgboost-3.0.0-py3-none-win_amd64.whl (150.0 MB)\n",
      "   ---------------------------------------- 0.0/150.0 MB ? eta -:--:--\n",
      "   ---------------------------------------- 0.0/150.0 MB ? eta -:--:--\n",
      "   - -------------------------------------- 3.9/150.0 MB 39.0 MB/s eta 0:00:04\n",
      "   --- ------------------------------------ 11.3/150.0 MB 35.2 MB/s eta 0:00:04\n",
      "   ----- ---------------------------------- 18.9/150.0 MB 35.1 MB/s eta 0:00:04\n",
      "   ------- -------------------------------- 28.0/150.0 MB 38.6 MB/s eta 0:00:04\n",
      "   --------- ------------------------------ 35.7/150.0 MB 38.4 MB/s eta 0:00:03\n",
      "   ----------- ---------------------------- 43.8/150.0 MB 38.1 MB/s eta 0:00:03\n",
      "   ------------- -------------------------- 51.9/150.0 MB 38.0 MB/s eta 0:00:03\n",
      "   ---------------- ----------------------- 60.0/150.0 MB 37.9 MB/s eta 0:00:03\n",
      "   ------------------ --------------------- 68.2/150.0 MB 37.8 MB/s eta 0:00:03\n",
      "   -------------------- ------------------- 76.0/150.0 MB 38.2 MB/s eta 0:00:02\n",
      "   --------------------- ------------------ 82.3/150.0 MB 38.1 MB/s eta 0:00:02\n",
      "   ------------------------ --------------- 92.3/150.0 MB 38.0 MB/s eta 0:00:02\n",
      "   -------------------------- ------------ 100.1/150.0 MB 37.8 MB/s eta 0:00:02\n",
      "   ---------------------------- ---------- 108.5/150.0 MB 37.9 MB/s eta 0:00:02\n",
      "   ------------------------------ -------- 116.7/150.0 MB 38.0 MB/s eta 0:00:01\n",
      "   -------------------------------- ------ 124.8/150.0 MB 38.1 MB/s eta 0:00:01\n",
      "   ---------------------------------- ---- 132.6/150.0 MB 38.2 MB/s eta 0:00:01\n",
      "   ------------------------------------ -- 140.8/150.0 MB 38.1 MB/s eta 0:00:01\n",
      "   --------------------------------------  148.9/150.0 MB 38.1 MB/s eta 0:00:01\n",
      "   --------------------------------------  149.9/150.0 MB 38.0 MB/s eta 0:00:01\n",
      "   --------------------------------------- 150.0/150.0 MB 35.1 MB/s eta 0:00:00\n",
      "Installing collected packages: xgboost\n",
      "Successfully installed xgboost-3.0.0\n",
      "Note: you may need to restart the kernel to use updated packages.\n"
     ]
    }
   ],
   "source": [
    "pip install xgboost"
   ]
  },
  {
   "cell_type": "code",
   "execution_count": 5,
   "id": "1ae26d8a",
   "metadata": {},
   "outputs": [
    {
     "name": "stderr",
     "output_type": "stream",
     "text": [
      "c:\\Users\\rafas\\AppData\\Local\\Programs\\Python\\Python310\\lib\\site-packages\\tqdm\\auto.py:21: TqdmWarning: IProgress not found. Please update jupyter and ipywidgets. See https://ipywidgets.readthedocs.io/en/stable/user_install.html\n",
      "  from .autonotebook import tqdm as notebook_tqdm\n"
     ]
    }
   ],
   "source": [
    "# gestión de datos\n",
    "import numpy as np\n",
    "import pandas as pd\n",
    "\n",
    "# fechas\n",
    "import datetime as dt\n",
    "from datetime import datetime\n",
    "from dateutil.relativedelta import relativedelta\n",
    "\n",
    "# gráficos\n",
    "import seaborn as sns\n",
    "import matplotlib.pyplot as plt\n",
    "\n",
    "# preprocessing\n",
    "from sklearn.preprocessing import StandardScaler\n",
    "from sklearn.model_selection import train_test_split\n",
    "\n",
    "# modelos\n",
    "from sklearn.linear_model import LinearRegression, Ridge, Lasso, ElasticNet, SGDRegressor\n",
    "from sklearn.svm import SVC\n",
    "from sklearn.ensemble import RandomForestRegressor, GradientBoostingRegressor\n",
    "from xgboost import XGBRegressor\n",
    "from catboost import CatBoostRegressor\n",
    "\n",
    "# metricas\n",
    "import sklearn.metrics as metrics\n",
    "\n",
    "# interpretabilidad\n",
    "import shap\n",
    "\n",
    "# hiperparametrizado\n",
    "from sklearn.model_selection import GridSearchCV\n",
    "\n",
    "# quitar alertas\n",
    "import warnings\n",
    "warnings.filterwarnings(\"ignore\")"
   ]
  },
  {
   "cell_type": "code",
   "execution_count": 6,
   "id": "6c407d1d",
   "metadata": {},
   "outputs": [
    {
     "data": {
      "text/plain": [
       "' DATOS '"
      ]
     },
     "execution_count": 6,
     "metadata": {},
     "output_type": "execute_result"
    }
   ],
   "source": [
    "''' DATOS '''"
   ]
  },
  {
   "cell_type": "code",
   "execution_count": 15,
   "id": "8113c01a",
   "metadata": {},
   "outputs": [],
   "source": [
    "df = pd.read_csv('./DATA/viviendas_regresion_basica.csv')"
   ]
  },
  {
   "cell_type": "markdown",
   "id": "36d6c9ba",
   "metadata": {},
   "source": [
    "Nuestro cliente nos pide que le digamos el precio al que podemos esperar vender las 3 últimas viviendas que acaban de entrar en la base de datos, y con qué margen de seguridad nos movemos. Para ello, nos dan los datos de las viviendas que tienen en su base de datos."
   ]
  },
  {
   "cell_type": "code",
   "execution_count": 16,
   "id": "0649d1a1",
   "metadata": {},
   "outputs": [
    {
     "data": {
      "text/html": [
       "<div>\n",
       "<style scoped>\n",
       "    .dataframe tbody tr th:only-of-type {\n",
       "        vertical-align: middle;\n",
       "    }\n",
       "\n",
       "    .dataframe tbody tr th {\n",
       "        vertical-align: top;\n",
       "    }\n",
       "\n",
       "    .dataframe thead th {\n",
       "        text-align: right;\n",
       "    }\n",
       "</style>\n",
       "<table border=\"1\" class=\"dataframe\">\n",
       "  <thead>\n",
       "    <tr style=\"text-align: right;\">\n",
       "      <th></th>\n",
       "      <th>id_vivienda</th>\n",
       "      <th>superficie</th>\n",
       "      <th>num_hab</th>\n",
       "      <th>distancia</th>\n",
       "      <th>fecha_const</th>\n",
       "      <th>parking</th>\n",
       "      <th>premiada</th>\n",
       "      <th>tam_buzon</th>\n",
       "      <th>precio</th>\n",
       "      <th>impuestos</th>\n",
       "      <th>vendida</th>\n",
       "    </tr>\n",
       "  </thead>\n",
       "  <tbody>\n",
       "    <tr>\n",
       "      <th>0</th>\n",
       "      <td>viv_1</td>\n",
       "      <td>65.0</td>\n",
       "      <td>1</td>\n",
       "      <td>7</td>\n",
       "      <td>1991-01-01</td>\n",
       "      <td>ext</td>\n",
       "      <td>0</td>\n",
       "      <td>0.9</td>\n",
       "      <td>166000.0</td>\n",
       "      <td>16600.0</td>\n",
       "      <td>1.0</td>\n",
       "    </tr>\n",
       "    <tr>\n",
       "      <th>1</th>\n",
       "      <td>viv_2</td>\n",
       "      <td>97.0</td>\n",
       "      <td>4+</td>\n",
       "      <td>8</td>\n",
       "      <td>1994-01-01</td>\n",
       "      <td>ext</td>\n",
       "      <td>0</td>\n",
       "      <td>1.8</td>\n",
       "      <td>279000.0</td>\n",
       "      <td>27900.0</td>\n",
       "      <td>1.0</td>\n",
       "    </tr>\n",
       "    <tr>\n",
       "      <th>2</th>\n",
       "      <td>viv_3</td>\n",
       "      <td>80.0</td>\n",
       "      <td>4+</td>\n",
       "      <td>4</td>\n",
       "      <td>1970-01-01</td>\n",
       "      <td>NaN</td>\n",
       "      <td>0</td>\n",
       "      <td>1.0</td>\n",
       "      <td>233000.0</td>\n",
       "      <td>23300.0</td>\n",
       "      <td>1.0</td>\n",
       "    </tr>\n",
       "    <tr>\n",
       "      <th>3</th>\n",
       "      <td>viv_4</td>\n",
       "      <td>73.0</td>\n",
       "      <td>1</td>\n",
       "      <td>1</td>\n",
       "      <td>1983-01-01</td>\n",
       "      <td>ext</td>\n",
       "      <td>0</td>\n",
       "      <td>1.1</td>\n",
       "      <td>182000.0</td>\n",
       "      <td>18200.0</td>\n",
       "      <td>1.0</td>\n",
       "    </tr>\n",
       "    <tr>\n",
       "      <th>4</th>\n",
       "      <td>viv_5</td>\n",
       "      <td>86.0</td>\n",
       "      <td>2</td>\n",
       "      <td>8</td>\n",
       "      <td>1999-01-01</td>\n",
       "      <td>NaN</td>\n",
       "      <td>0</td>\n",
       "      <td>1.2</td>\n",
       "      <td>210000.0</td>\n",
       "      <td>21000.0</td>\n",
       "      <td>1.0</td>\n",
       "    </tr>\n",
       "    <tr>\n",
       "      <th>...</th>\n",
       "      <td>...</td>\n",
       "      <td>...</td>\n",
       "      <td>...</td>\n",
       "      <td>...</td>\n",
       "      <td>...</td>\n",
       "      <td>...</td>\n",
       "      <td>...</td>\n",
       "      <td>...</td>\n",
       "      <td>...</td>\n",
       "      <td>...</td>\n",
       "      <td>...</td>\n",
       "    </tr>\n",
       "    <tr>\n",
       "      <th>6998</th>\n",
       "      <td>viv_6999</td>\n",
       "      <td>128.0</td>\n",
       "      <td>3</td>\n",
       "      <td>5</td>\n",
       "      <td>1979-01-01</td>\n",
       "      <td>NaN</td>\n",
       "      <td>0</td>\n",
       "      <td>1.3</td>\n",
       "      <td>317000.0</td>\n",
       "      <td>31700.0</td>\n",
       "      <td>0.0</td>\n",
       "    </tr>\n",
       "    <tr>\n",
       "      <th>6999</th>\n",
       "      <td>viv_7000</td>\n",
       "      <td>77.0</td>\n",
       "      <td>4+</td>\n",
       "      <td>7</td>\n",
       "      <td>1996-01-01</td>\n",
       "      <td>ext</td>\n",
       "      <td>0</td>\n",
       "      <td>1.5</td>\n",
       "      <td>177000.0</td>\n",
       "      <td>17700.0</td>\n",
       "      <td>0.0</td>\n",
       "    </tr>\n",
       "    <tr>\n",
       "      <th>7000</th>\n",
       "      <td>viv_7001</td>\n",
       "      <td>128.0</td>\n",
       "      <td>3</td>\n",
       "      <td>6</td>\n",
       "      <td>2022-01-01</td>\n",
       "      <td>ext</td>\n",
       "      <td>0</td>\n",
       "      <td>0.7</td>\n",
       "      <td>NaN</td>\n",
       "      <td>NaN</td>\n",
       "      <td>NaN</td>\n",
       "    </tr>\n",
       "    <tr>\n",
       "      <th>7001</th>\n",
       "      <td>viv_7002</td>\n",
       "      <td>93.0</td>\n",
       "      <td>4+</td>\n",
       "      <td>9</td>\n",
       "      <td>1988-01-01</td>\n",
       "      <td>NaN</td>\n",
       "      <td>0</td>\n",
       "      <td>1.5</td>\n",
       "      <td>NaN</td>\n",
       "      <td>NaN</td>\n",
       "      <td>NaN</td>\n",
       "    </tr>\n",
       "    <tr>\n",
       "      <th>7002</th>\n",
       "      <td>viv_7003</td>\n",
       "      <td>68.0</td>\n",
       "      <td>2</td>\n",
       "      <td>3</td>\n",
       "      <td>1972-01-01</td>\n",
       "      <td>NaN</td>\n",
       "      <td>0</td>\n",
       "      <td>0.7</td>\n",
       "      <td>NaN</td>\n",
       "      <td>NaN</td>\n",
       "      <td>NaN</td>\n",
       "    </tr>\n",
       "  </tbody>\n",
       "</table>\n",
       "<p>7003 rows × 11 columns</p>\n",
       "</div>"
      ],
      "text/plain": [
       "     id_vivienda  superficie num_hab  distancia fecha_const parking  premiada  \\\n",
       "0          viv_1        65.0       1          7  1991-01-01     ext         0   \n",
       "1          viv_2        97.0      4+          8  1994-01-01     ext         0   \n",
       "2          viv_3        80.0      4+          4  1970-01-01     NaN         0   \n",
       "3          viv_4        73.0       1          1  1983-01-01     ext         0   \n",
       "4          viv_5        86.0       2          8  1999-01-01     NaN         0   \n",
       "...          ...         ...     ...        ...         ...     ...       ...   \n",
       "6998    viv_6999       128.0       3          5  1979-01-01     NaN         0   \n",
       "6999    viv_7000        77.0      4+          7  1996-01-01     ext         0   \n",
       "7000    viv_7001       128.0       3          6  2022-01-01     ext         0   \n",
       "7001    viv_7002        93.0      4+          9  1988-01-01     NaN         0   \n",
       "7002    viv_7003        68.0       2          3  1972-01-01     NaN         0   \n",
       "\n",
       "      tam_buzon    precio  impuestos  vendida  \n",
       "0           0.9  166000.0    16600.0      1.0  \n",
       "1           1.8  279000.0    27900.0      1.0  \n",
       "2           1.0  233000.0    23300.0      1.0  \n",
       "3           1.1  182000.0    18200.0      1.0  \n",
       "4           1.2  210000.0    21000.0      1.0  \n",
       "...         ...       ...        ...      ...  \n",
       "6998        1.3  317000.0    31700.0      0.0  \n",
       "6999        1.5  177000.0    17700.0      0.0  \n",
       "7000        0.7       NaN        NaN      NaN  \n",
       "7001        1.5       NaN        NaN      NaN  \n",
       "7002        0.7       NaN        NaN      NaN  \n",
       "\n",
       "[7003 rows x 11 columns]"
      ]
     },
     "execution_count": 16,
     "metadata": {},
     "output_type": "execute_result"
    }
   ],
   "source": [
    "df"
   ]
  },
  {
   "cell_type": "code",
   "execution_count": 17,
   "id": "7af04556",
   "metadata": {},
   "outputs": [],
   "source": [
    "df_pred = df.tail(3)"
   ]
  },
  {
   "cell_type": "code",
   "execution_count": 18,
   "id": "d34eadee",
   "metadata": {},
   "outputs": [
    {
     "data": {
      "text/html": [
       "<div>\n",
       "<style scoped>\n",
       "    .dataframe tbody tr th:only-of-type {\n",
       "        vertical-align: middle;\n",
       "    }\n",
       "\n",
       "    .dataframe tbody tr th {\n",
       "        vertical-align: top;\n",
       "    }\n",
       "\n",
       "    .dataframe thead th {\n",
       "        text-align: right;\n",
       "    }\n",
       "</style>\n",
       "<table border=\"1\" class=\"dataframe\">\n",
       "  <thead>\n",
       "    <tr style=\"text-align: right;\">\n",
       "      <th></th>\n",
       "      <th>id_vivienda</th>\n",
       "      <th>superficie</th>\n",
       "      <th>num_hab</th>\n",
       "      <th>distancia</th>\n",
       "      <th>fecha_const</th>\n",
       "      <th>parking</th>\n",
       "      <th>premiada</th>\n",
       "      <th>tam_buzon</th>\n",
       "      <th>precio</th>\n",
       "      <th>impuestos</th>\n",
       "      <th>vendida</th>\n",
       "    </tr>\n",
       "  </thead>\n",
       "  <tbody>\n",
       "    <tr>\n",
       "      <th>7000</th>\n",
       "      <td>viv_7001</td>\n",
       "      <td>128.0</td>\n",
       "      <td>3</td>\n",
       "      <td>6</td>\n",
       "      <td>2022-01-01</td>\n",
       "      <td>ext</td>\n",
       "      <td>0</td>\n",
       "      <td>0.7</td>\n",
       "      <td>NaN</td>\n",
       "      <td>NaN</td>\n",
       "      <td>NaN</td>\n",
       "    </tr>\n",
       "    <tr>\n",
       "      <th>7001</th>\n",
       "      <td>viv_7002</td>\n",
       "      <td>93.0</td>\n",
       "      <td>4+</td>\n",
       "      <td>9</td>\n",
       "      <td>1988-01-01</td>\n",
       "      <td>NaN</td>\n",
       "      <td>0</td>\n",
       "      <td>1.5</td>\n",
       "      <td>NaN</td>\n",
       "      <td>NaN</td>\n",
       "      <td>NaN</td>\n",
       "    </tr>\n",
       "    <tr>\n",
       "      <th>7002</th>\n",
       "      <td>viv_7003</td>\n",
       "      <td>68.0</td>\n",
       "      <td>2</td>\n",
       "      <td>3</td>\n",
       "      <td>1972-01-01</td>\n",
       "      <td>NaN</td>\n",
       "      <td>0</td>\n",
       "      <td>0.7</td>\n",
       "      <td>NaN</td>\n",
       "      <td>NaN</td>\n",
       "      <td>NaN</td>\n",
       "    </tr>\n",
       "  </tbody>\n",
       "</table>\n",
       "</div>"
      ],
      "text/plain": [
       "     id_vivienda  superficie num_hab  distancia fecha_const parking  premiada  \\\n",
       "7000    viv_7001       128.0       3          6  2022-01-01     ext         0   \n",
       "7001    viv_7002        93.0      4+          9  1988-01-01     NaN         0   \n",
       "7002    viv_7003        68.0       2          3  1972-01-01     NaN         0   \n",
       "\n",
       "      tam_buzon  precio  impuestos  vendida  \n",
       "7000        0.7     NaN        NaN      NaN  \n",
       "7001        1.5     NaN        NaN      NaN  \n",
       "7002        0.7     NaN        NaN      NaN  "
      ]
     },
     "execution_count": 18,
     "metadata": {},
     "output_type": "execute_result"
    }
   ],
   "source": [
    "df_pred"
   ]
  },
  {
   "cell_type": "code",
   "execution_count": 19,
   "id": "7a103cce",
   "metadata": {},
   "outputs": [],
   "source": [
    "df = df.drop(df.tail(3).index)"
   ]
  },
  {
   "cell_type": "code",
   "execution_count": 22,
   "id": "ec67f9c7",
   "metadata": {},
   "outputs": [
    {
     "data": {
      "text/plain": [
       "vendida\n",
       "1.0    5000\n",
       "0.0    2000\n",
       "Name: count, dtype: int64"
      ]
     },
     "execution_count": 22,
     "metadata": {},
     "output_type": "execute_result"
    }
   ],
   "source": [
    "df[\"vendida\"].value_counts()"
   ]
  },
  {
   "cell_type": "code",
   "execution_count": 23,
   "id": "bbd33505",
   "metadata": {},
   "outputs": [
    {
     "name": "stdout",
     "output_type": "stream",
     "text": [
      "<class 'pandas.core.frame.DataFrame'>\n",
      "RangeIndex: 7000 entries, 0 to 6999\n",
      "Data columns (total 11 columns):\n",
      " #   Column       Non-Null Count  Dtype  \n",
      "---  ------       --------------  -----  \n",
      " 0   id_vivienda  7000 non-null   object \n",
      " 1   superficie   6990 non-null   float64\n",
      " 2   num_hab      7000 non-null   object \n",
      " 3   distancia    7000 non-null   int64  \n",
      " 4   fecha_const  7000 non-null   object \n",
      " 5   parking      4763 non-null   object \n",
      " 6   premiada     7000 non-null   int64  \n",
      " 7   tam_buzon    7000 non-null   float64\n",
      " 8   precio       7000 non-null   float64\n",
      " 9   impuestos    7000 non-null   float64\n",
      " 10  vendida      7000 non-null   float64\n",
      "dtypes: float64(5), int64(2), object(4)\n",
      "memory usage: 601.7+ KB\n"
     ]
    }
   ],
   "source": [
    "df.info()"
   ]
  }
 ],
 "metadata": {
  "kernelspec": {
   "display_name": "Python 3",
   "language": "python",
   "name": "python3"
  },
  "language_info": {
   "codemirror_mode": {
    "name": "ipython",
    "version": 3
   },
   "file_extension": ".py",
   "mimetype": "text/x-python",
   "name": "python",
   "nbconvert_exporter": "python",
   "pygments_lexer": "ipython3",
   "version": "3.10.11"
  }
 },
 "nbformat": 4,
 "nbformat_minor": 5
}
